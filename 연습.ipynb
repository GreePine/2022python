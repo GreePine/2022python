{
 "cells": [
  {
   "cell_type": "code",
   "execution_count": 57,
   "metadata": {},
   "outputs": [],
   "source": [
    "f1 = open(\"C:\\\\python_edu\\\\test.txt\", \"wt\")\n",
    "f1.write(\"Hello world!\")\n",
    "f1.close()"
   ]
  },
  {
   "cell_type": "code",
   "execution_count": 58,
   "metadata": {},
   "outputs": [
    {
     "name": "stdout",
     "output_type": "stream",
     "text": [
      "Hello world!\n"
     ]
    }
   ],
   "source": [
    "f2 = open(\"C:\\\\python_edu\\\\test.txt\", \"rt\")\n",
    "print(f2.read())\n",
    "f2.close()"
   ]
  },
  {
   "cell_type": "code",
   "execution_count": 60,
   "metadata": {},
   "outputs": [],
   "source": [
    "f3 = open(\"C:\\\\python_edu\\\\logo.jpg\", \"rb\")\n",
    "img = f3.read()\n",
    "f3.close()"
   ]
  },
  {
   "cell_type": "code",
   "execution_count": 62,
   "metadata": {},
   "outputs": [],
   "source": [
    "# test1.txt 파일을 생성해주세요.\n",
    "f4 = open(\"C:\\\\python_edu\\\\test1.txt\",\"wt\")\n",
    "f4.close()\n"
   ]
  },
  {
   "cell_type": "code",
   "execution_count": 67,
   "metadata": {},
   "outputs": [],
   "source": [
    "# 반복문을 이용하여 파일5개를 생성해주세요.\n",
    "for i in range(2,7) :\n",
    "    filename = \"C:\\\\python_edu\\\\test\"+str(i)+\".txt\"\n",
    "    open(filename,\"wt\")\n"
   ]
  },
  {
   "cell_type": "code",
   "execution_count": 75,
   "metadata": {},
   "outputs": [],
   "source": [
    "# text1.txt 파일에 hello world!를 저장해주세요.\n",
    "f4 = open(\"C:\\\\python_edu\\\\test1.txt\",\"wt\")\n",
    "f4.write(\"hello world!\")\n",
    "f4.close()"
   ]
  },
  {
   "cell_type": "code",
   "execution_count": 3,
   "metadata": {},
   "outputs": [
    {
     "name": "stdout",
     "output_type": "stream",
     "text": [
      "안녕하세요\n",
      "저는 홍길동입니다.\n",
      "나이는 23살입니다.\n",
      "잘부탁드립니다.\n",
      "\n"
     ]
    }
   ],
   "source": [
    "# test2.txt 파일에는 줄바꿈을 적용해서 아래와 같이 작성해서 저장해주세요.\n",
    "f4 = open(\"C:\\\\python_edu\\\\test2.txt\",\"wt\", encoding=\"utf-8\")\n",
    "f4.writelines(\"안녕하세요\\n\")\n",
    "f4.writelines(\"저는 홍길동입니다.\\n\")\n",
    "f4.writelines(\"나이는 23살입니다.\\n\")\n",
    "f4.writelines(\"잘부탁드립니다.\\n\")\n",
    "f4.close()\n",
    "\n",
    "f4 = open(\"C:\\\\python_edu\\\\test2.txt\",\"rt\", encoding=\"utf-8\")\n",
    "print(f4.read())\n",
    "f4.close()"
   ]
  }
 ],
 "metadata": {
  "interpreter": {
   "hash": "098e4179bb19075bee29837d1100ec88107a47eacbb8f01424e7b8daefeeaa77"
  },
  "kernelspec": {
   "display_name": "Python 3.10.2 64-bit",
   "language": "python",
   "name": "python3"
  },
  "language_info": {
   "codemirror_mode": {
    "name": "ipython",
    "version": 3
   },
   "file_extension": ".py",
   "mimetype": "text/x-python",
   "name": "python",
   "nbconvert_exporter": "python",
   "pygments_lexer": "ipython3",
   "version": "3.10.2"
  },
  "orig_nbformat": 4
 },
 "nbformat": 4,
 "nbformat_minor": 2
}
